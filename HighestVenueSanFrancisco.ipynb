{
 "cells": [
  {
   "cell_type": "markdown",
   "metadata": {},
   "source": [
    "<h1><font color='Teal'>Identifying Best Venue Location in San Francisco:</font></h1> \n",
    "<img src = \"SF.jpg\">\n",
    "<h1> Introduction: </h1>\n",
    "<body>\n",
    "San Francisco has been dubbed the center of bohemianism. With writers such as Mark Twain and Jack London and other poets in 1950s making their best work. Then in the 1980s, a tech boom emerged in Silicon Valley allowing for transformative growth. Due to this, there have been more people moving into San Francisco with different backgrounds. The focus of the this report will be on small foodie businesses, with the intent to find the best location for a food business. \n",
    "\n",
    "FourSquare API allows a developer find the nearby venues to a pair of certain coordinates that you declare. In that, to find the best location to yield the most revenue, we will analyze the venues in San Francisco with the highest ratings. The following methods used will include k-means clustering. \n",
    "\n",
    "Objective of the analysis is to find the best venue location for an upcoming entrepreneur who is looking for the best yields. </body>\n",
    "\n",
    "<h1>Data:</h1>\n",
    "<body>\n",
    "From FourSquare, the different categories that will be of interest, will be description, pricing, ratings, and likes of the venues. The data will be extracted by using python scripts and being passed into a pandas data frame. To determine the top 3 best locations, a k-means cluster with n = 3 will be the best approach for a meaningful yield. \n",
    "</body>"
   ]
  },
  {
   "cell_type": "code",
   "execution_count": null,
   "metadata": {},
   "outputs": [],
   "source": []
  }
 ],
 "metadata": {
  "kernelspec": {
   "display_name": "Python 3",
   "language": "python",
   "name": "python3"
  },
  "language_info": {
   "codemirror_mode": {
    "name": "ipython",
    "version": 3
   },
   "file_extension": ".py",
   "mimetype": "text/x-python",
   "name": "python",
   "nbconvert_exporter": "python",
   "pygments_lexer": "ipython3",
   "version": "3.7.9"
  }
 },
 "nbformat": 4,
 "nbformat_minor": 4
}
